{
 "cells": [
  {
   "cell_type": "markdown",
   "metadata": {},
   "source": [
    "# Regular Expressions in the NLP\n",
    "Regular expressions are a powerful tool for text processing in NLP. They are used to match patterns in\n",
    "text data. Here are some common regular expression patterns used in NLP:\n",
    "-   **Word boundaries**: `\\b` is used to match word boundaries. For example, `\\\n",
    "-   **Non-word characters**: `\\W` is used to match non-word characters. For example\n",
    "-   **Word characters**: `\\w` is used to match word characters. For example, `\n",
    "-   **Digits**: `\\d` is used to match digits. For example, `\n",
    "-   **Whitespace**: `\\s` is used to match whitespace characters. For example, `\n",
    "-   **Any character**: `.` is used to match any character. For example, `\n",
    "-   **Character classes**: `[abc]` is used to match any character in the class.\n",
    "-   **Negated character classes**: `[^abc]` is used to match any character not\n",
    "in the class."
   ]
  },
  {
   "cell_type": "markdown",
   "metadata": {},
   "source": [
    "#### Visit the website `Regular Expression 110` (regex 110) to understand the Regular Expressions (regex)."
   ]
  },
  {
   "cell_type": "code",
   "execution_count": 43,
   "metadata": {},
   "outputs": [
    {
     "data": {
      "text/plain": [
       "['(5643218970)']"
      ]
     },
     "execution_count": 43,
     "metadata": {},
     "output_type": "execute_result"
    }
   ],
   "source": [
    "#Import the libraries:\n",
    "import re\n",
    "#Make the paragraphs to understand the Codes\n",
    "code1 = 'This is my first code in NLP, hera i am talk about numbers 12345676542'\n",
    "code2 = 'This is my second code in NLP, hera i am talk about numbers like (5643218970)2314'\n",
    "code3 = \"This is my third code of NLP, hera i am talking about the gmail ID muhammaD021@gmail.com\"\n",
    "code4 = \"This is my fourth code of NLP, here i am talking about the Address order # one 1232145\"\n",
    "# Regular expression to find numbers in the code\n",
    "pattern = r\"\\(\\d{10}\\)\"\n",
    "matches = re.findall(pattern, code2)\n",
    "matches"
   ]
  },
  {
   "cell_type": "code",
   "execution_count": 38,
   "metadata": {},
   "outputs": [
    {
     "name": "stdout",
     "output_type": "stream",
     "text": [
      "['muhammaD021@gmail.com']\n"
     ]
    }
   ],
   "source": [
    "#Use Regular Expression to find the Gmail ID:\n",
    "pattern = r\"[a-zA-Z0-9_]*@[a-z]*\\.com\"\n",
    "matches = re.findall(pattern, code3)\n",
    "print(matches)  # Output: ['user@.com', 'user@.com']"
   ]
  },
  {
   "cell_type": "code",
   "execution_count": 44,
   "metadata": {},
   "outputs": [
    {
     "name": "stdout",
     "output_type": "stream",
     "text": [
      "['1232145']\n"
     ]
    }
   ],
   "source": [
    "#Use Regular Expression to find the Order Number:\n",
    "pattern = r\"order[^\\d]*(\\d*)\"\n",
    "matches = re.findall(pattern, code4)\n",
    "print(matches)  # Output: ['user@.com', 'user@.com']"
   ]
  }
 ],
 "metadata": {
  "kernelspec": {
   "display_name": "nlp_env",
   "language": "python",
   "name": "python3"
  },
  "language_info": {
   "codemirror_mode": {
    "name": "ipython",
    "version": 3
   },
   "file_extension": ".py",
   "mimetype": "text/x-python",
   "name": "python",
   "nbconvert_exporter": "python",
   "pygments_lexer": "ipython3",
   "version": "3.12.4"
  }
 },
 "nbformat": 4,
 "nbformat_minor": 2
}
