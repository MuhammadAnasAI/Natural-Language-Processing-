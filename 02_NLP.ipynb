{
 "cells": [
  {
   "cell_type": "markdown",
   "metadata": {},
   "source": [
    "# Information Extraction task using the Regular Expression"
   ]
  },
  {
   "cell_type": "code",
   "execution_count": 2,
   "metadata": {},
   "outputs": [],
   "source": [
    "import re"
   ]
  },
  {
   "cell_type": "code",
   "execution_count": 4,
   "metadata": {},
   "outputs": [
    {
     "data": {
      "text/plain": [
       "['68']"
      ]
     },
     "execution_count": 4,
     "metadata": {},
     "output_type": "execute_result"
    }
   ],
   "source": [
    "para = \"\"\"Born\tWilliam Henry Gates III\n",
    "October 28, 1955 (age 68)\n",
    "Seattle, Washington, U.S.\n",
    "Education\tHarvard University (dropped out)\n",
    "Occupations\t\n",
    "Businessmaninvestorphilanthropistcomputer programmerwriter\n",
    "Years active\t1972–present\n",
    "Known for\t\n",
    "Pioneer of the personal computer revolution with Paul Allen\n",
    "Co-founding of Microsoft and Bill & Melinda Gates Foundation\n",
    "Title\t\n",
    "See list\n",
    "Spouse\tMelinda French\n",
    "​\n",
    "​(m. 1994; div. 2021)​\n",
    "Children\t3\n",
    "Parents\t\n",
    "Bill Gates Sr.\n",
    "Mary Maxwell\n",
    "Awards\t\n",
    "Knight Commander of the Order of the British Empire (2005)\n",
    "Padma Bhushan (2015)\"\"\"\n",
    "\n",
    "# Grap the Age Dataset from the paragraph:\n",
    "pattern = r\"age (\\d+)\"\n",
    "matches = re.findall(pattern, para)\n",
    "matches"
   ]
  },
  {
   "cell_type": "code",
   "execution_count": 15,
   "metadata": {},
   "outputs": [
    {
     "data": {
      "text/plain": [
       "'William Henry Gates III'"
      ]
     },
     "execution_count": 15,
     "metadata": {},
     "output_type": "execute_result"
    }
   ],
   "source": [
    "# Grap the Born dataset of paragarph:\n",
    "pattern = r\"Born(.*)\"\n",
    "matches = re.findall(pattern, para)\n",
    "matches[0].strip()"
   ]
  },
  {
   "cell_type": "code",
   "execution_count": 17,
   "metadata": {},
   "outputs": [
    {
     "data": {
      "text/plain": [
       "'October 28, 1955'"
      ]
     },
     "execution_count": 17,
     "metadata": {},
     "output_type": "execute_result"
    }
   ],
   "source": [
    "# Grap the date of birth:\n",
    "pattern = r\"Born.*\\n(.*)\\(age\"\n",
    "matches = re.findall(pattern, para)\n",
    "matches[0].strip()"
   ]
  },
  {
   "cell_type": "code",
   "execution_count": 19,
   "metadata": {},
   "outputs": [
    {
     "data": {
      "text/plain": [
       "'Seattle, Washington, U.S.'"
      ]
     },
     "execution_count": 19,
     "metadata": {},
     "output_type": "execute_result"
    }
   ],
   "source": [
    "# Grap the date of birth place :\n",
    "pattern = r\"\\(age.*\\n(.*)\"\n",
    "matches = re.findall(pattern, para)\n",
    "matches[0].strip()"
   ]
  },
  {
   "cell_type": "code",
   "execution_count": 20,
   "metadata": {},
   "outputs": [
    {
     "data": {
      "text/plain": [
       "'Seattle, Washington, U.S.'"
      ]
     },
     "execution_count": 20,
     "metadata": {},
     "output_type": "execute_result"
    }
   ],
   "source": [
    "#Create a function for All:\n",
    "def get_pattern_match(pattern, para):\n",
    "    matches = re.findall(pattern, para)\n",
    "    if matches:\n",
    "        return matches[0]\n",
    "get_pattern_match(r\"\\(age.*\\n(.*)\", para)    "
   ]
  },
  {
   "cell_type": "markdown",
   "metadata": {},
   "source": [
    "### Make a Function for all dataset values"
   ]
  },
  {
   "cell_type": "code",
   "execution_count": 27,
   "metadata": {},
   "outputs": [],
   "source": [
    "def my_personal_info(para):\n",
    "    place = get_pattern_match(r\"\\(age.*\\n(.*)\", para)\n",
    "    date = get_pattern_match( r\"Born.*\\n(.*)\\(age\", para)       \n",
    "    name = get_pattern_match(r\"Born(.*)\", para)\n",
    "    age = get_pattern_match(r\"age (\\d+)\",para)\n",
    "    return{\n",
    "        'age':int(age),\n",
    "        'name':name.strip(),\n",
    "        'date':date.strip(),\n",
    "        'place':place.strip()\n",
    "    }"
   ]
  },
  {
   "cell_type": "code",
   "execution_count": 28,
   "metadata": {},
   "outputs": [
    {
     "data": {
      "text/plain": [
       "{'age': 68,\n",
       " 'name': 'William Henry Gates III',\n",
       " 'date': 'October 28, 1955',\n",
       " 'place': 'Seattle, Washington, U.S.'}"
      ]
     },
     "execution_count": 28,
     "metadata": {},
     "output_type": "execute_result"
    }
   ],
   "source": [
    "my_personal_info(para)"
   ]
  },
  {
   "cell_type": "code",
   "execution_count": null,
   "metadata": {},
   "outputs": [],
   "source": []
  }
 ],
 "metadata": {
  "kernelspec": {
   "display_name": "nlp_env",
   "language": "python",
   "name": "python3"
  },
  "language_info": {
   "codemirror_mode": {
    "name": "ipython",
    "version": 3
   },
   "file_extension": ".py",
   "mimetype": "text/x-python",
   "name": "python",
   "nbconvert_exporter": "python",
   "pygments_lexer": "ipython3",
   "version": "3.12.4"
  }
 },
 "nbformat": 4,
 "nbformat_minor": 2
}
